{
 "cells": [
  {
   "cell_type": "markdown",
   "metadata": {
    "colab_type": "text",
    "id": "P6xk2_jLsvFF"
   },
   "source": [
    "# [作業目標]\n",
    "\n",
    "1. [簡答題] 請問下列四種不同的 DataFrame 選取結果有什麼差異？\n",
    "\n",
    "```\n",
    "df.loc[ '2013-01-01', 'A'] \n",
    "df.loc[ '2013-01-01', ['A', 'B'] ] \n",
    "df.loc[ '2013-01-01':'2013-01-02', 'A' ] \n",
    "df.loc[ '2013-01-01':'2013-01-05', 'A':'C'] \n",
    "```\n",
    "\n",
    "\n",
    "2. 請根據提供的資料，選擇出下列的要求：\n",
    "\n",
    "```\n",
    "# - select the first 3 rows.\n",
    "# - select the odd rows. (index = 1, 3, 5)\n",
    "# - select the last 2 columns.\n",
    "# - select the even columns. (index = 0, 2, 4)\n",
    "```\n",
    "\n",
    "3. 請根據提供的資料，選擇出下列的要求：\n",
    "\n",
    "```\n",
    "# - 1. filtered by first column > 20?\n",
    "# - 2. filtered by first column + second column > 50\n",
    "# - 3. filtered by first column < 30 or second column > 30\n",
    "# - 4. filtered by total sum of row > 100\n",
    "```"
   ]
  },
  {
   "cell_type": "markdown",
   "metadata": {
    "colab_type": "text",
    "id": "uXGll28asvFS"
   },
   "source": [
    "# 作業 "
   ]
  },
  {
   "cell_type": "markdown",
   "metadata": {},
   "source": [
    "### 1. [簡答題] 請問下列四種不同的 DataFrame 選取結果有什麼差異？\n",
    "\n",
    "```\n",
    "df.loc[ '2013-01-01', 'A'] \n",
    "df.loc[ '2013-01-01', ['A', 'B'] ] \n",
    "df.loc[ '2013-01-01':'2013-01-02', 'A' ] \n",
    "df.loc[ '2013-01-01':'2013-01-05', 'A':'C'] \n",
    "```\n",
    "\n",
    "\n",
    "\n"
   ]
  },
  {
   "cell_type": "code",
   "execution_count": null,
   "metadata": {
    "colab": {},
    "colab_type": "code",
    "id": "5QrYoyNWsvFS"
   },
   "outputs": [],
   "source": []
  },
  {
   "cell_type": "markdown",
   "metadata": {},
   "source": [
    "### 2. 請根據提供的資料，選擇出下列的要求：\n",
    "\n",
    "```\n",
    "# - select the first 3 rows.\n",
    "# - select the odd rows. (index = 1, 3, 5)\n",
    "# - select the last 2 columns.\n",
    "# - select the even columns. (index = 0, 2, 4)\n",
    "```\n"
   ]
  },
  {
   "cell_type": "code",
   "execution_count": 17,
   "metadata": {},
   "outputs": [
    {
     "name": "stdout",
     "output_type": "stream",
     "text": [
      "                   A         B         C\n",
      "2013-01-01 -0.741900  2.712143  1.728402\n",
      "2013-01-02  1.026722 -0.096522 -1.058588\n",
      "2013-01-03 -0.333400  0.904812 -0.801200\n",
      "2013-01-04  0.454992  0.093943  0.257467\n",
      "2013-01-05  1.940043 -1.503886  0.295937\n"
     ]
    }
   ],
   "source": [
    "# 記得先 Import 正確的套件\n",
    "import pandas as pd\n",
    "import numpy as np\n",
    "df = pd.DataFrame(np.random.randn(5,3), columns=['A','B','C'], index=pd.date_range('2013-01-01','2013-01-05'))\n",
    "print(df)\n",
    "# print(df.loc['2013-01-01':'2013-01-02'])\n",
    "# df.loc[ '2013-01-01', 'A'] #只有一個指定數值 \n",
    "# df.loc[ '2013-01-01', ['A', 'B'] ] #兩個指定數值  \n",
    "# df.loc[ '2013-01-01':'2013-01-02', 'A' ] #兩個指定數值\n",
    "# df.loc[ '2013-01-01':'2013-01-05', 'A':'C'] #指定從哪裡到哪裡，所以出現整個表格"
   ]
  },
  {
   "cell_type": "code",
   "execution_count": 20,
   "metadata": {
    "colab": {},
    "colab_type": "code",
    "id": "e1gVI0tvsvFY"
   },
   "outputs": [
    {
     "name": "stdout",
     "output_type": "stream",
     "text": [
      "       col1      col2      col3\n",
      "0  1.212483 -2.006090 -0.635475\n",
      "1 -1.595878 -0.542740  0.186487\n",
      "2  1.087467 -0.921713  0.647803\n",
      "3  0.528241  1.435977 -1.408794\n",
      "4 -1.356034  2.546624  0.870228\n",
      "5 -1.028297  0.664462 -0.828773\n",
      "--------------------------------\n",
      "       col1      col2      col3\n",
      "0  1.212483 -2.006090 -0.635475\n",
      "1 -1.595878 -0.542740  0.186487\n",
      "2  1.087467 -0.921713  0.647803\n",
      "--------------------------------\n",
      "       col1      col2      col3\n",
      "1 -1.595878 -0.542740  0.186487\n",
      "3  0.528241  1.435977 -1.408794\n",
      "5 -1.028297  0.664462 -0.828773\n",
      "--------------------------------\n",
      "       col1      col2      col3\n",
      "4 -1.356034  2.546624  0.870228\n",
      "5 -1.028297  0.664462 -0.828773\n",
      "--------------------------------\n",
      "       col1      col2      col3\n",
      "0  1.212483 -2.006090 -0.635475\n",
      "2  1.087467 -0.921713  0.647803\n",
      "4 -1.356034  2.546624  0.870228\n",
      "--------------------------------\n",
      "       col1      col3\n",
      "0  1.212483 -0.635475\n",
      "1 -1.595878  0.186487\n",
      "2  1.087467  0.647803\n",
      "3  0.528241 -1.408794\n",
      "4 -1.356034  0.870228\n",
      "5 -1.028297 -0.828773\n"
     ]
    }
   ],
   "source": [
    "df = pd.DataFrame(np.random.randn(6,3),columns=['col1','col2','col3'])\n",
    "print(df)\n",
    "print('--------------------------------')\n",
    "print(df.head(3))\n",
    "print('--------------------------------')\n",
    "print(df.loc[df.index%2==1])\n",
    "print('--------------------------------')\n",
    "print(df.tail(2))\n",
    "print('--------------------------------')\n",
    "print(df.loc[df.index%2==0])\n",
    "print('--------------------------------')\n",
    "print(df[['col1','col3']])\n"
   ]
  },
  {
   "cell_type": "code",
   "execution_count": 21,
   "metadata": {},
   "outputs": [
    {
     "data": {
      "text/html": [
       "<div>\n",
       "<style scoped>\n",
       "    .dataframe tbody tr th:only-of-type {\n",
       "        vertical-align: middle;\n",
       "    }\n",
       "\n",
       "    .dataframe tbody tr th {\n",
       "        vertical-align: top;\n",
       "    }\n",
       "\n",
       "    .dataframe thead th {\n",
       "        text-align: right;\n",
       "    }\n",
       "</style>\n",
       "<table border=\"1\" class=\"dataframe\">\n",
       "  <thead>\n",
       "    <tr style=\"text-align: right;\">\n",
       "      <th></th>\n",
       "      <th>col1</th>\n",
       "      <th>col3</th>\n",
       "    </tr>\n",
       "  </thead>\n",
       "  <tbody>\n",
       "    <tr>\n",
       "      <td>0</td>\n",
       "      <td>-0.884767</td>\n",
       "      <td>2.304767</td>\n",
       "    </tr>\n",
       "    <tr>\n",
       "      <td>1</td>\n",
       "      <td>-0.689055</td>\n",
       "      <td>-2.368233</td>\n",
       "    </tr>\n",
       "    <tr>\n",
       "      <td>2</td>\n",
       "      <td>-1.815161</td>\n",
       "      <td>0.237035</td>\n",
       "    </tr>\n",
       "    <tr>\n",
       "      <td>3</td>\n",
       "      <td>1.516296</td>\n",
       "      <td>1.100521</td>\n",
       "    </tr>\n",
       "    <tr>\n",
       "      <td>4</td>\n",
       "      <td>0.270463</td>\n",
       "      <td>-0.720529</td>\n",
       "    </tr>\n",
       "    <tr>\n",
       "      <td>5</td>\n",
       "      <td>-0.612772</td>\n",
       "      <td>0.150427</td>\n",
       "    </tr>\n",
       "  </tbody>\n",
       "</table>\n",
       "</div>"
      ],
      "text/plain": [
       "       col1      col3\n",
       "0 -0.884767  2.304767\n",
       "1 -0.689055 -2.368233\n",
       "2 -1.815161  0.237035\n",
       "3  1.516296  1.100521\n",
       "4  0.270463 -0.720529\n",
       "5 -0.612772  0.150427"
      ]
     },
     "execution_count": 21,
     "metadata": {},
     "output_type": "execute_result"
    }
   ],
   "source": [
    "df = pd.DataFrame(np.random.randn(6,3),columns=['col1','col2','col3'])\n",
    "df[['col1','col3']]"
   ]
  },
  {
   "cell_type": "markdown",
   "metadata": {},
   "source": [
    "### 3. 請根據提供的資料，選擇出下列的要求：\n",
    "\n",
    "```\n",
    "# - 1. filtered by first column > 20?\n",
    "# - 2. filtered by first column + second column > 50\n",
    "# - 3. filtered by first column < 30 or second column > 30\n",
    "# - 4. filtered by total sum of row > 100\n",
    "```"
   ]
  },
  {
   "cell_type": "code",
   "execution_count": 62,
   "metadata": {},
   "outputs": [
    {
     "name": "stdout",
     "output_type": "stream",
     "text": [
      "     0   1   2   3\n",
      "0   32  31  28  36\n",
      "1   21  39  18  10\n",
      "2   24  18  19  12\n",
      "3   11  23  36  29\n",
      "4   16  27  38  12\n",
      "5   24  35  28  27\n",
      "6   36  25  21  23\n",
      "7   15  21  27  18\n",
      "8   20  35  35  13\n",
      "9   11  22  18  10\n",
      "10  28  14  16  39\n",
      "11  15  21  34  27\n",
      "12  14  12  32  17\n",
      "13  37  10  18  33\n",
      "14  38  16  24  21\n",
      "--------------------------------------------\n",
      "0     32\n",
      "1     21\n",
      "2     24\n",
      "5     24\n",
      "6     36\n",
      "10    28\n",
      "13    37\n",
      "14    38\n",
      "Name: 0, dtype: int32\n",
      "--------------------------------------------\n",
      "     0   1   2   3\n",
      "0   32  31  28  36\n",
      "1   21  39  18  10\n",
      "5   24  35  28  27\n",
      "6   36  25  21  23\n",
      "8   20  35  35  13\n",
      "14  38  16  24  21\n",
      "--------------------------------------------\n",
      "    0   1   2   3\n",
      "1  21  39  18  10\n",
      "5  24  35  28  27\n",
      "8  20  35  35  13\n",
      "--------------------------------------------\n",
      "     0   1   2   3  sum\n",
      "0   32  31  28  36  127\n",
      "1   21  39  18  10   88\n",
      "2   24  18  19  12   73\n",
      "3   11  23  36  29   99\n",
      "4   16  27  38  12   93\n",
      "5   24  35  28  27  114\n",
      "6   36  25  21  23  105\n",
      "7   15  21  27  18   81\n",
      "8   20  35  35  13  103\n",
      "9   11  22  18  10   61\n",
      "10  28  14  16  39   97\n",
      "11  15  21  34  27   97\n",
      "12  14  12  32  17   75\n",
      "13  37  10  18  33   98\n",
      "14  38  16  24  21   99\n",
      "    0   1   2   3  sum\n",
      "0  32  31  28  36  127\n",
      "5  24  35  28  27  114\n",
      "6  36  25  21  23  105\n",
      "8  20  35  35  13  103\n"
     ]
    }
   ],
   "source": [
    "df = pd.DataFrame(np.random.randint(10, 40, 60).reshape(-1, 4))\n",
    "print(df)\n",
    "print('--------------------------------------------')\n",
    "condition=df[0]>20\n",
    "filterdata=df[0][condition]\n",
    "print(filterdata)\n",
    "\n",
    "# filt = df[0]>20\n",
    "# print(df.loc[filt]) #這個也可以\n",
    "print('--------------------------------------------')\n",
    "condition=df[0]+df[1]>50\n",
    "filterdata=df[condition]\n",
    "print(filterdata)\n",
    "print('--------------------------------------------')\n",
    "condition=(df[0]<30) & (df[1]>30)\n",
    "print(df.loc[condition])\n",
    "print('--------------------------------------------')\n",
    "df['sum']=df.sum(axis=1)\n",
    "print(df)\n",
    "print('--------------------------------------------')\n",
    "filter=df['sum']>100\n",
    "print(df.loc[filter])"
   ]
  },
  {
   "cell_type": "code",
   "execution_count": 35,
   "metadata": {},
   "outputs": [
    {
     "data": {
      "text/plain": [
       "'\\nYour Code\\n'"
      ]
     },
     "execution_count": 35,
     "metadata": {},
     "output_type": "execute_result"
    }
   ],
   "source": [
    "'''\n",
    "Your Code\n",
    "'''"
   ]
  },
  {
   "cell_type": "code",
   "execution_count": null,
   "metadata": {},
   "outputs": [],
   "source": []
  },
  {
   "cell_type": "code",
   "execution_count": null,
   "metadata": {},
   "outputs": [],
   "source": []
  },
  {
   "cell_type": "code",
   "execution_count": null,
   "metadata": {},
   "outputs": [],
   "source": []
  }
 ],
 "metadata": {
  "colab": {
   "name": "Day_023_HW.ipynb",
   "provenance": []
  },
  "kernelspec": {
   "display_name": "Python 3",
   "language": "python",
   "name": "python3"
  },
  "language_info": {
   "codemirror_mode": {
    "name": "ipython",
    "version": 3
   },
   "file_extension": ".py",
   "mimetype": "text/x-python",
   "name": "python",
   "nbconvert_exporter": "python",
   "pygments_lexer": "ipython3",
   "version": "3.6.5"
  }
 },
 "nbformat": 4,
 "nbformat_minor": 1
}
